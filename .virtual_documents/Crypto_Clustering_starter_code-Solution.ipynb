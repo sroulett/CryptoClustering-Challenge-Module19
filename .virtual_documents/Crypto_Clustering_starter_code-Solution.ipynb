# Import required libraries and dependencies
import pandas as pd
import hvplot.pandas
from sklearn.cluster import KMeans
from sklearn.decomposition import PCA
from sklearn.preprocessing import StandardScaler


# Load the data into a Pandas DataFrame
df_market_data = pd.read_csv(
    "Resources/crypto_market_data.csv",
    index_col="coin_id")

# Display sample data
df_market_data.head(10)


# Generate summary statistics
df_market_data.describe()


# Plot your data to see what's in your DataFrame
df_market_data.hvplot.line(
    width=800,
    height=400,
    rot=90
)








# Use the `StandardScaler()` module from scikit-learn to normalize the data from the CSV file
market_data_scaled = StandardScaler().fit_transform(
    df_market_data[["price_change_percentage_24h", "price_change_percentage_7d", "price_change_percentage_14d", "price_change_percentage_30d",
                    "price_change_percentage_60d", "price_change_percentage_200d", "price_change_percentage_1y"]]
)


# Create a DataFrame with the scaled data
df_market_data_scaled = pd.DataFrame(market_data_scaled, columns=["price_change_percentage_24h", "price_change_percentage_7d", "price_change_percentage_14d", "price_change_percentage_30d",
                    "price_change_percentage_60d", "price_change_percentage_200d", "price_change_percentage_1y"]
)

# Copy the crypto names from the original DataFrame
df_market_data_scaled["coin_id"] = df_market_data.index

# Set the coin_id column as index
df_market_data_scaled = df_market_data_scaled.set_index("coin_id")

# Display the scaled DataFrame
df_market_data_scaled.head()








# Create a list with the number of k-values from 1 to 11
k = list(range(1,11))


# Create an empty list to store the inertia values
inertia = []

# Create a for loop to compute the inertia with each possible value of k
# Inside the loop:
# 1. Create a KMeans model using the loop counter for the n_clusters
# 2. Fit the model to the data using `df_market_data_scaled`
# 3. Append the model.inertia_ to the inertia list
for i in k:
    k_model = KMeans(n_clusters=i, random_state=0)
    k_model.fit(df_market_data_scaled)
    inertia.append(k_model.inertia_)


# Create a dictionary with the data to plot the Elbow curve
elbow_data_one = {"k": k, "inertia": inertia}

# Create a DataFrame with the data to plot the Elbow curve
df_elbow_one = pd.DataFrame(elbow_data_one)
df_elbow_one.head()


# Plot a line chart with all the inertia values computed with
# the different values of k to visually identify the optimal value for k.
df_elbow_one.hvplot.line(
    x="k",
    y="inertia",
    title="Original Data Elbow Curve",
    xticks=k
)











# Initialize the K-Means model using the best value for k
model = KMeans(n_clusters=4, random_state=0)


# Fit the K-Means model using the scaled DataFrame
model.fit(df_market_data_scaled)


# Predict the clusters to group the cryptocurrencies using the scaled DataFrame
k_4 = model.predict(df_market_data_scaled)

# Print the resulting array of cluster values.
print(k_4)


# Create a copy of the scaled DataFrame
df_market_data_scaled_predictions = df_market_data_scaled.copy()


# Add a new column to the copy of the scaled DataFrame with the predicted clusters
df_market_data_scaled_predictions["Clusters"] = k_4

# Display the copy of the scaled DataFrame
df_market_data_scaled_predictions.head()


# Create a scatter plot using hvPlot by setting
# `x="price_change_percentage_24h"` and `y="price_change_percentage_7d"`.
# Color the graph points with the labels found using K-Means and
# add the crypto name in the `hover_cols` parameter to identify
# the cryptocurrency represented by each data point.
df_market_data_scaled_predictions.hvplot.scatter(
    x="price_change_percentage_24h",
    y="price_change_percentage_7d",
    by="Clusters",
    title = "PC% 24h versus PC% 7d Scatter Plot",
    hover_cols="coin_id"
)








# Create a PCA model instance and set `n_components=3`.
pca = PCA(n_components=3)


# Use the PCA model with `fit_transform` to reduce the original scaled DataFrame
# down to three principal components.
market_pca_data = pca.fit_transform(df_market_data_scaled)
# View the scaled PCA data
market_pca_data[:5]


# Retrieve the explained variance to determine how much information
# can be attributed to each principal component.
pca.explained_variance_ratio_





# Create a new DataFrame with the PCA data.
df_market_pca = pd.DataFrame(market_pca_data, columns=["PCA1", "PCA2", "PCA3"])

# Copy the crypto names from the original scaled DataFrame
df_market_pca["coin_id"] = df_market_data.index

# Set the coin_id column as index
df_market_pca = df_market_pca.set_index("coin_id")

# Display the scaled PCA DataFrame
df_market_pca.head()








# Create a list with the number of k-values from 1 to 11
k = list(range(1,11))


# Create an empty list to store the inertia values
inertia = []

# Create a for loop to compute the inertia with each possible value of k
# Inside the loop:
# 1. Create a KMeans model using the loop counter for the n_clusters
# 2. Fit the model to the data using `df_market_data_pca`
# 3. Append the model.inertia_ to the inertia list
for i in k:
    k_model = KMeans(n_clusters=i, random_state=0)
    k_model.fit(df_market_pca)
    inertia.append(k_model.inertia_)


# Create a dictionary with the data to plot the Elbow curve
elbow_data_pca = {"k": k, "inertia": inertia}
# Create a DataFrame with the data to plot the Elbow curve
df_elbow_pca = pd.DataFrame(elbow_data_pca)


# Plot a line chart with all the inertia values computed with
# the different values of k to visually identify the optimal value for k.
df_elbow_pca.hvplot.line(
    x="k",
    y="inertia",
    title="PCA Data Elbow Curve",
    xticks=k
)








# Initialize the K-Means model using the best value for k
model = KMeans(n_clusters=4, random_state=0)


# Fit the K-Means model using the PCA data
model.fit(df_market_pca)


# Predict the clusters to group the cryptocurrencies using the scaled PCA DataFrame
crypto_clusters = model.predict(df_market_pca)

# Print the resulting array of cluster values.
print(crypto_clusters)


# Create a copy of the scaled PCA DataFrame
df_elbow_pca_predictions = df_market_pca.copy()

# Add a new column to the copy of the PCA DataFrame with the predicted clusters
df_elbow_pca_predictions["Crypto Clusters"] = crypto_clusters

# Display the copy of the scaled PCA DataFrame
df_elbow_pca_predictions.head()


# Create a scatter plot using hvPlot by setting
# `x="PC1"` and `y="PC2"`.
# Color the graph points with the labels found using K-Means and
# add the crypto name in the `hover_cols` parameter to identify
# the cryptocurrency represented by each data point.
df_elbow_pca_predictions.hvplot.scatter(
    x="PCA1",
    y="PCA2",
    by="Crypto Clusters",
    title = "Crypto Clusters Scatter Plot",
    hover_cols="coin_id"
)





# Composite plot to contrast the Elbow curves
(df_elbow_one.hvplot.line(x="k", y="inertia", title="Elbow Curve Comparison", xticks=k, label= "Original") + 
     df_elbow_pca.hvplot.line(x="k", y="inertia", title="Elbow Curve Comparison", xticks=k, label= "PCA"))



# Composite plot to contrast the clusters
(df_market_data_scaled_predictions.hvplot.scatter(x="price_change_percentage_24h", y="price_change_percentage_7d", by="Clusters", title = "Cluster Comparison", hover_cols="coin_id", label= "Scaled") + 
     df_elbow_pca_predictions.hvplot.scatter(x="PCA1", y="PCA2",
     by="Crypto Clusters", title = "Cluster Comparison", hover_cols="coin_id", label= "PCA"))



